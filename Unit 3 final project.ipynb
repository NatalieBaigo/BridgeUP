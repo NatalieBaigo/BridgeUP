{
 "cells": [
  {
   "cell_type": "markdown",
   "metadata": {},
   "source": [
    "open the files to use further on in the code"
   ]
  },
  {
   "cell_type": "code",
   "execution_count": 1,
   "metadata": {},
   "outputs": [],
   "source": [
    "m_dna= open(\"4a_CSN2_DNA.txt\").read()\n",
    "d_dna= open(\"4b_CSN2_DNA.txt\").read()\n",
    "c_dna= open(\"4c_CSN2_DNA.txt\").read()"
   ]
  },
  {
   "cell_type": "code",
   "execution_count": 47,
   "metadata": {},
   "outputs": [
    {
     "name": "stdout",
     "output_type": "stream",
     "text": [
      "624\n",
      "624\n",
      "624\n"
     ]
    }
   ],
   "source": [
    "print(len(m_dna))\n",
    "print(len(d_dna))\n",
    "print(len(c_dna))"
   ]
  },
  {
   "cell_type": "code",
   "execution_count": 48,
   "metadata": {},
   "outputs": [
    {
     "name": "stdout",
     "output_type": "stream",
     "text": [
      "AUGAAAGUCCUCAUCCUUGCCUGUCUGGUGGCUCUUGCUCUUGCAAGGGAGAAGGAAGAUACUGUAUCUACUAAGAGUGUAGACUAUUUUUCAAGCAGUGAGGAAUCUGUUACACAAAUUGACAAGCAAAAAUCUGAGAGGGUUAGACCUGAGGAACAGCAAAGAGAGGAUGAAUGCCAGGAUAAAAUCCAGCCCCUUUUCCAGCUGCAGCCUCUAGUCUAUCCUUACGCUGAGCCCAUUCCUUAUACCGUUGUUCCAUCAAGUGCCAUGCCUCCUGCUCAGCCUGUUGUGGUGCUGCCUUUCCUCCAGCCUGAAAUAAUGGAAUUCCCUGAAGCUAAAGAAACCAUCUUUCCUAGGCAAAAAGUGAUGUCCUUCCUUAAGUCUCCAAUAAUUUCCCCUGUUGACCCCCAGAUCCUGUAUCUCACUAAUCCUGAAAAUUUUCACCUUCCUCUGCCUCUGCUCCAGCCAUUAAGGCACCAGCUCCACCAGCCUCUUGCUCAGACUCCAGUGCUUCCUUCUCUCUCCUUGCCCAAAGUCCUGCCUGUUCCCCAGGAAGGGAUACCCUAUGCCCAGAGAGGUAUACCCAUCCAAGAGCCUCUACUUGACCCAGUCCGUGUGUUCCAC\n"
     ]
    }
   ],
   "source": [
    "m_RNA=\"\"\n",
    "for i in m_dna:\n",
    "    if i==\"C\":\n",
    "        m_RNA+=\"G\"\n",
    "    elif i==\"G\":\n",
    "        m_RNA+=\"C\"\n",
    "    elif i==\"A\":\n",
    "        m_RNA+=\"U\"\n",
    "    elif i==\"T\":\n",
    "        m_RNA+=\"A\"\n",
    "print(m_RNA)"
   ]
  },
  {
   "cell_type": "code",
   "execution_count": 49,
   "metadata": {},
   "outputs": [
    {
     "name": "stdout",
     "output_type": "stream",
     "text": [
      "AUGAAGGUCCUCAUCCUUGCCUGCUUGUUGGCUCUUGCCCUUGCAAGAGAGAAAGAAGAACUCAAUGUAUCCGGUGAGACUGUGAAAAGCCUUUCAAGCAGUGAAGAAUUUGUUACGCACAUCAACAAGAAAAUUGGGAAGUUUAAACAUGAGGAACAGCAGCAAACAGAGGAUGAACCCCAGGAUAAAAUCCACCACUUUUCCCAGCCACAGCCUCUAGUCUAUUCCUACACUGGGCCAAUCCCUUACCCUAUCCUUCGACAAAACAUCCUGCCUCUUGCUCAACCCCCUGUGGUGGUGCCUUUCUCUCAGCCUGAAAUAAUGGAAGUCCCCAAAGCUAAGGAGACUAUUCUUCCUAAGCAUAAAGAAAUACCCUUCCCUAAAUCUCCAGUAGAGCGCUUUAUUGAAAGCCAGAGCCUGACUCUCACUGAUCUUGAAAAUCUGCACCUUCCUCUGCCUCUGCUCGAGUCCUUGAUGCACCAGCCUCCCCAUCCUCUUCCUCCUACCCCCAUGUUUCCUCCUCAGCCCCUGCAGUCCCUUUCUCAGCACAAAGUCCUGCCUAUUCCCCAGCAAGUGGUGCCCUACCUCCAGAGAGAUAUGCCCAUCCAGGCCCUUCUGCUGUAC\n"
     ]
    }
   ],
   "source": [
    "d_RNA=\"\"\n",
    "for i in d_dna:\n",
    "    if i == \"C\":\n",
    "        d_RNA+= \"G\"\n",
    "    elif i==\"G\":\n",
    "        d_RNA+=\"C\"\n",
    "    elif i==\"A\":\n",
    "        d_RNA+=\"U\"\n",
    "    elif i==\"T\":\n",
    "        d_RNA+= \"A\"\n",
    "print(d_RNA)"
   ]
  },
  {
   "cell_type": "code",
   "execution_count": 50,
   "metadata": {},
   "outputs": [
    {
     "name": "stdout",
     "output_type": "stream",
     "text": [
      "AUGAAGGUCCUCAUCCUUGCCUGCCUGGUGGCUCUGGCCCUUGCAAGAGAGCUGGAAGAACUCAAUGUACCGGGUGAGAUUGUGGAAAGCCUUUCAAGCAGUGAGGAAUCUAUUACACGCAUCAAUAAGAAAAUUGAGAAGUUUCAGAGUGAGGAACAGCAGCAAACAGAGGAUGAACUCCAGGAUAAAAUCCACCCCUUUGCCCAGACACAGUCUCUAGUCUAUCCCUUCCCUGGGCCCAUCCCUAACAGCCUCCCACAAAACAUCCCUCCUCUUACUCAAACCCCUGUGGUGGUGCCGCCUUUCCUUCAGCCUGAAGUACUGGGAGUCUCCAAAGUGAAGGAGGCUAUGGCUCCUAAGCACAAAGAAAUGCCCUUUCCUAAAUAUCCAGUUGAGCCCUUUACUGAAAGCCAGAGCUUGACUUUGACUGAUGUUGAAAAUCUUCAUUUGCCUCCUCUCUUGCUCCAGUCUUGGAUGCAUCAGCCUCACCAGCCUCUUCCUCCAACUGUCAUGUUUCCUCCUCAGUCCGUGCUGUCCCUUUCUCAGUCCAAAGUCCUGCCUGUUCCCCAGAAAGCAGUGCCCUAUCCCCAGAGAGAUAUGCCCAUUCAGGCCUUUCUGCUGUAC\n"
     ]
    }
   ],
   "source": [
    "c_RNA=\"\"\n",
    "for i in c_dna:\n",
    "    if i == \"C\":\n",
    "        c_RNA+= \"G\"\n",
    "    elif i==\"G\":\n",
    "        c_RNA+=\"C\"\n",
    "    elif i==\"A\":\n",
    "        c_RNA+=\"U\"\n",
    "    elif i==\"T\":\n",
    "        c_RNA+= \"A\"\n",
    "print(c_RNA)      "
   ]
  },
  {
   "cell_type": "code",
   "execution_count": 51,
   "metadata": {},
   "outputs": [],
   "source": [
    "codonDict = {\"UUU\":\"F\",\"UUC\":\"F\",\"UUA\":\"L\",\"UUG\":\"L\", \"CUU\":\"L\",\"CUC\":\"L\", \n",
    "             \"CUA\":\"L\",\"CUG\":\"L\",\"AUU\":\"I\",\"AUC\":\"I\",\"AUA\":\"I\",\"AUG\":\"M\",\n",
    "             \"GUU\":\"V\",\"GUC\":\"V\",\"GUA\":\"V\",\"GUG\":\"V\",\"UCU\":\"S\",\"UCC\":\"S\",\n",
    "             \"UCA\":\"S\",\"UCG\":\"S\",\"CCU\":\"P\",\"CCC\":\"P\",\"CCA\":\"P\",\"CCG\":\"P\",\n",
    "             \"ACU\":\"T\",\"ACC\":\"T\",\"ACA\":\"T\",\"ACG\":\"T\",\"GCU\":\"A\",\"GCC\":\"A\",\n",
    "             \"GCA\":\"A\",\"GCG\":\"A\",\"UAU\":\"Y\",\"UAC\":\"Y\",\"UAA\":\"STOP\",\"UAG\":\"STOP\",\n",
    "             \"UGA\":\"STOP\",\"CAU\":\"H\",\"CAC\":\"H\",\"CAA\":\"Q\",\"CAG\":\"Q\",\"AAU\":\"N\",\n",
    "             \"AAC\":\"N\",\"AAA\":\"K\",\"AAG\":\"K\",\"GAU\":\"D\",\"GAC\":\"D\",\"GAA\":\"E\",\n",
    "             \"GAG\":\"E\",\"UGU\":\"C\",\"UGC\":\"C\",\"UGG\":\"W\",\"CGU\":\"R\",\"CGC\":\"R\",\n",
    "             \"CGA\":\"R\",\"CGG\":\"R\",\"AGU\":\"S\",\"AGC\":\"S\",\"AGA\":\"R\",\"AGG\":\"R\",\n",
    "             \"GGU\":\"G\",\"GGC\":\"G\",\"GGA\":\"G\",\"GGG\":\"G\"}"
   ]
  },
  {
   "cell_type": "code",
   "execution_count": 121,
   "metadata": {},
   "outputs": [
    {
     "name": "stdout",
     "output_type": "stream",
     "text": [
      "MKVLILACLVALALAREKEDTVSTKSVDYFSSSEESVTQIDKQKSERVRPEEQQREDECQDKIQPLFQLQPLVYPYAEPIPYTVVPSSAMPPAQPVVVLPFLQPEIMEFPEAKETIFPRQKVMSFLKSPIISPVDPQILYLTNPENFHLPLPLLQPLRHQLHQPLAQTPVLPSLSLPKVLPVPQEGIPYAQRGIPIQEPLLDPVRVFH\n"
     ]
    }
   ],
   "source": [
    "m_protein=\"\"\n",
    "m_codon=\"\"\n",
    "for i in m_RNA:\n",
    "    if len(m_codon)!= 3:\n",
    "        m_codon+=i\n",
    "    if len(m_codon)==3:\n",
    "        m_protein+= codonDict[m_codon]\n",
    "        m_codon=\"\"\n",
    "print(m_protein)"
   ]
  },
  {
   "cell_type": "code",
   "execution_count": 122,
   "metadata": {},
   "outputs": [
    {
     "name": "stdout",
     "output_type": "stream",
     "text": [
      "MKVLILACLLALALAREKEELNVSGETVKSLSSSEEFVTHINKKIGKFKHEEQQQTEDEPQDKIHHFSQPQPLVYSYTGPIPYPILRQNILPLAQPPVVVPFSQPEIMEVPKAKETILPKHKEIPFPKSPVERFIESQSLTLTDLENLHLPLPLLESLMHQPPHPLPPTPMFPPQPLQSLSQHKVLPIPQQVVPYLQRDMPIQALLLY\n"
     ]
    }
   ],
   "source": [
    "d_protein=\"\"\n",
    "d_codon=\"\"\n",
    "for i in d_RNA:\n",
    "    if len(d_codon)!= 3:\n",
    "        d_codon+=i\n",
    "    if len(d_codon)==3:\n",
    "        d_protein+= codonDict[d_codon]\n",
    "        d_codon=\"\"\n",
    "print(d_protein)"
   ]
  },
  {
   "cell_type": "code",
   "execution_count": 123,
   "metadata": {},
   "outputs": [
    {
     "name": "stdout",
     "output_type": "stream",
     "text": [
      "MKVLILACLVALALARELEELNVPGEIVESLSSSEESITRINKKIEKFQSEEQQQTEDELQDKIHPFAQTQSLVYPFPGPIPNSLPQNIPPLTQTPVVVPPFLQPEVLGVSKVKEAMAPKHKEMPFPKYPVEPFTESQSLTLTDVENLHLPPLLLQSWMHQPHQPLPPTVMFPPQSVLSLSQSKVLPVPQKAVPYPQRDMPIQAFLLY\n"
     ]
    }
   ],
   "source": [
    "c_protein=\"\"\n",
    "c_codon=\"\"\n",
    "for i in c_RNA:\n",
    "    if len(c_codon)!= 3:\n",
    "        c_codon+=i\n",
    "    if len(c_codon)==3:\n",
    "        c_protein+= codonDict[c_codon]\n",
    "        c_codon=\"\"\n",
    "print(c_protein)"
   ]
  },
  {
   "cell_type": "code",
   "execution_count": 128,
   "metadata": {},
   "outputs": [
    {
     "name": "stdout",
     "output_type": "stream",
     "text": [
      "MKVLILACLVALALAREKEDTVSTKSVDYFSSSEESVTQIDKQKSERVRPEEQQREDECQDKIQPLFQLQPLVYPYAEPIPYTVVPSSAMPPAQPVVVLPFLQPEIMEFPEAKETIFPRQKVMSFLKSPIISPVDPQILYLTNPENFHLPLPLLQPLRHQLHQPLAQTPVLPSLSLPKVLPVPQEGIPYAQRGIPIQEPLLDPVRVFH\n"
     ]
    }
   ],
   "source": [
    "#translation for m_RNA:this goes second\n",
    "def translate(obj):\n",
    "    m_protein = \"\"\n",
    "    m_codon = \"\"\n",
    "    for i in m_RNA:\n",
    "        if len(m_codon) !=3:\n",
    "            m_codon += i\n",
    "        if len(m_codon) == 3:\n",
    "            m_protein += codonDict[m_codon]\n",
    "            m_codon = \"\"\n",
    "    return m_protein\n",
    "print(translate(m_RNA))"
   ]
  },
  {
   "cell_type": "code",
   "execution_count": 114,
   "metadata": {},
   "outputs": [
    {
     "name": "stdout",
     "output_type": "stream",
     "text": [
      "AUGAAAGUCCUCAUCCUUGCCUGUCUGGUGGCUCUUGCUCUUGCAAGGGAGAAGGAAGAUACUGUAUCUACUAAGAGUGUAGACUAUUUUUCAAGCAGUGAGGAAUCUGUUACACAAAUUGACAAGCAAAAAUCUGAGAGGGUUAGACCUGAGGAACAGCAAAGAGAGGAUGAAUGCCAGGAUAAAAUCCAGCCCCUUUUCCAGCUGCAGCCUCUAGUCUAUCCUUACGCUGAGCCCAUUCCUUAUACCGUUGUUCCAUCAAGUGCCAUGCCUCCUGCUCAGCCUGUUGUGGUGCUGCCUUUCCUCCAGCCUGAAAUAAUGGAAUUCCCUGAAGCUAAAGAAACCAUCUUUCCUAGGCAAAAAGUGAUGUCCUUCCUUAAGUCUCCAAUAAUUUCCCCUGUUGACCCCCAGAUCCUGUAUCUCACUAAUCCUGAAAAUUUUCACCUUCCUCUGCCUCUGCUCCAGCCAUUAAGGCACCAGCUCCACCAGCCUCUUGCUCAGACUCCAGUGCUUCCUUCUCUCUCCUUGCCCAAAGUCCUGCCUGUUCCCCAGGAAGGGAUACCCUAUGCCCAGAGAGGUAUACCCAUCCAAGAGCCUCUACUUGACCCAGUCCGUGUGUUCCAC\n"
     ]
    }
   ],
   "source": [
    "#transcription for m_DNA: this goes first \n",
    "def transcribe(obj):\n",
    "    m_RNA = \"\"\n",
    "    for i in m_dna:\n",
    "        if i == \"T\":\n",
    "            m_RNA += \"A\"\n",
    "        elif i == \"A\":\n",
    "            m_RNA += \"U\"\n",
    "        elif i == \"C\":\n",
    "            m_RNA += \"G\"\n",
    "        else:\n",
    "            m_RNA += \"C\"\n",
    "    return m_RNA\n",
    "print(transcribe(m_dna))"
   ]
  },
  {
   "cell_type": "code",
   "execution_count": 55,
   "metadata": {},
   "outputs": [
    {
     "name": "stdout",
     "output_type": "stream",
     "text": [
      "175\n"
     ]
    }
   ],
   "source": [
    "d_md=0\n",
    "for c,i in enumerate(m_protein):\n",
    "    if i!=d_protein[c]:\n",
    "        d_md+= 1\n",
    "print(d_md)"
   ]
  },
  {
   "cell_type": "code",
   "execution_count": 56,
   "metadata": {},
   "outputs": [
    {
     "name": "stdout",
     "output_type": "stream",
     "text": [
      "167\n"
     ]
    }
   ],
   "source": [
    "d_mc=0\n",
    "for c,i in enumerate(m_protein):\n",
    "    if i!=c_protein[c]:\n",
    "        d_mc+= 1\n",
    "print(d_mc)"
   ]
  },
  {
   "cell_type": "code",
   "execution_count": 57,
   "metadata": {},
   "outputs": [
    {
     "name": "stdout",
     "output_type": "stream",
     "text": [
      "64\n"
     ]
    }
   ],
   "source": [
    "d_dc=0\n",
    "for c,i in enumerate(d_protein):\n",
    "    if i!=c_protein[c]:\n",
    "        d_dc+= 1\n",
    "print(d_dc)"
   ]
  },
  {
   "cell_type": "markdown",
   "metadata": {},
   "source": [
    "here we are going to find the difference in percentage of DNA sequences"
   ]
  },
  {
   "cell_type": "code",
   "execution_count": 58,
   "metadata": {},
   "outputs": [],
   "source": [
    "import matplotlib.pyplot as plt\n"
   ]
  },
  {
   "cell_type": "code",
   "execution_count": 59,
   "metadata": {},
   "outputs": [
    {
     "name": "stdout",
     "output_type": "stream",
     "text": [
      "390\n",
      "62.5\n"
     ]
    }
   ],
   "source": [
    "d_mc=0\n",
    "\n",
    "for c,i in enumerate(m_dna):\n",
    "    if i!=c_dna[c]:\n",
    "        d_mc+=1\n",
    "print(d_mc)\n",
    "mc_p=(d_mc/ len(m_dna)) *100\n",
    "print(mc_p)"
   ]
  },
  {
   "cell_type": "code",
   "execution_count": 60,
   "metadata": {},
   "outputs": [
    {
     "name": "stdout",
     "output_type": "stream",
     "text": [
      "398\n",
      "63.78205128205128\n"
     ]
    }
   ],
   "source": [
    "d_md=0\n",
    "\n",
    "for c,i in enumerate(m_dna):\n",
    "    if i!= d_dna[c]:\n",
    "        d_md+=1\n",
    "print(d_md)\n",
    "dm_p=(d_md/ len(m_dna)) * 100\n",
    "print(dm_p)"
   ]
  },
  {
   "cell_type": "code",
   "execution_count": 61,
   "metadata": {},
   "outputs": [
    {
     "name": "stdout",
     "output_type": "stream",
     "text": [
      "116\n",
      "18.58974358974359\n"
     ]
    }
   ],
   "source": [
    "d_dc=0\n",
    "\n",
    "for c,i in enumerate(d_dna):\n",
    "    if i!= c_dna[c]:\n",
    "        d_dc+=1\n",
    "print(d_dc)\n",
    "dc_p=(d_dc/ len(d_dna)) *100\n",
    "print(dc_p)"
   ]
  },
  {
   "cell_type": "code",
   "execution_count": 109,
   "metadata": {},
   "outputs": [
    {
     "name": "stdout",
     "output_type": "stream",
     "text": [
      "398\n"
     ]
    }
   ],
   "source": [
    "\n",
    "def diff(num1,num2):\n",
    "    dna_dc=0\n",
    "    for c,i in enumerate(num1):\n",
    "        if i!= num2[c]:\n",
    "            dna_dc+=1\n",
    "    return dna_dc\n",
    "print(diff(m_dna,d_dna))"
   ]
  },
  {
   "cell_type": "code",
   "execution_count": 111,
   "metadata": {},
   "outputs": [
    {
     "data": {
      "image/png": "[encoded data removed]",
      "text/plain": [
       "<Figure size 432x288 with 1 Axes>"
      ]
     },
     "metadata": {
      "needs_background": "light"
     },
     "output_type": "display_data"
    }
   ],
   "source": [
    "plt.bar([1,2,3],[dm_p,mc_p,dc_p],color= [\"lightskyblue\",\"lightblue\",\"royalblue\"])\n",
    "plt.xticks([1,2,3],[\"Manatee and Dolphin\",\"Manatee and Cow\",\"Dolphin and Cow\"])\n",
    "plt.title(\"Difference in DNA()\")\n",
    "plt.show()"
   ]
  },
  {
   "cell_type": "code",
   "execution_count": 64,
   "metadata": {},
   "outputs": [],
   "source": [
    "def mylen(obj):\n",
    "    c=0\n",
    "    for i in obj:\n",
    "        c+=1\n",
    "    return c"
   ]
  },
  {
   "cell_type": "code",
   "execution_count": 65,
   "metadata": {},
   "outputs": [
    {
     "data": {
      "text/plain": [
       "5"
      ]
     },
     "execution_count": 65,
     "metadata": {},
     "output_type": "execute_result"
    }
   ],
   "source": [
    "myL=[1,2,3,4,5]\n",
    "len(myL)"
   ]
  },
  {
   "cell_type": "code",
   "execution_count": 66,
   "metadata": {},
   "outputs": [
    {
     "name": "stdout",
     "output_type": "stream",
     "text": [
      "5\n"
     ]
    }
   ],
   "source": [
    "print(mylen(myL))"
   ]
  },
  {
   "cell_type": "code",
   "execution_count": 67,
   "metadata": {},
   "outputs": [],
   "source": [
    "def add(num1,num2):\n",
    "    return num1+num2"
   ]
  },
  {
   "cell_type": "code",
   "execution_count": 68,
   "metadata": {},
   "outputs": [
    {
     "name": "stdout",
     "output_type": "stream",
     "text": [
      "6\n"
     ]
    }
   ],
   "source": [
    "print(add(5,1))"
   ]
  },
  {
   "cell_type": "code",
   "execution_count": 69,
   "metadata": {},
   "outputs": [],
   "source": [
    "def add(num3,num4):\n",
    "    return num3+num4"
   ]
  },
  {
   "cell_type": "code",
   "execution_count": 70,
   "metadata": {},
   "outputs": [
    {
     "name": "stdout",
     "output_type": "stream",
     "text": [
      "11\n"
     ]
    }
   ],
   "source": [
    "print(add(6,5))"
   ]
  },
  {
   "cell_type": "code",
   "execution_count": 71,
   "metadata": {},
   "outputs": [
    {
     "name": "stdout",
     "output_type": "stream",
     "text": [
      "12882267\n"
     ]
    }
   ],
   "source": [
    "print(add(9034983,3847284))"
   ]
  },
  {
   "cell_type": "code",
   "execution_count": null,
   "metadata": {},
   "outputs": [],
   "source": []
  }
 ],
 "metadata": {
  "kernelspec": {
   "display_name": "Python 3",
   "language": "python",
   "name": "python3"
  },
  "language_info": {
   "codemirror_mode": {
    "name": "ipython",
    "version": 3
   },
   "file_extension": ".py",
   "mimetype": "text/x-python",
   "name": "python",
   "nbconvert_exporter": "python",
   "pygments_lexer": "ipython3",
   "version": "3.7.3"
  }
 },
 "nbformat": 4,
 "nbformat_minor": 2
}
